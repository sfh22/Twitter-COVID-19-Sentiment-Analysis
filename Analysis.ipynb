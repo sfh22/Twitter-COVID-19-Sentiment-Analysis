{
 "cells": [
  {
   "cell_type": "code",
   "execution_count": 40,
   "metadata": {},
   "outputs": [],
   "source": [
    "import pandas as pd\n",
    "from matplotlib import pyplot as plt\n",
    "import matplotlib.patches as mpatches\n",
    "import numpy as np"
   ]
  },
  {
   "cell_type": "code",
   "execution_count": 50,
   "metadata": {
    "scrolled": true
   },
   "outputs": [
    {
     "data": {
      "text/html": [
       "<div>\n",
       "<style scoped>\n",
       "    .dataframe tbody tr th:only-of-type {\n",
       "        vertical-align: middle;\n",
       "    }\n",
       "\n",
       "    .dataframe tbody tr th {\n",
       "        vertical-align: top;\n",
       "    }\n",
       "\n",
       "    .dataframe thead th {\n",
       "        text-align: right;\n",
       "    }\n",
       "</style>\n",
       "<table border=\"1\" class=\"dataframe\">\n",
       "  <thead>\n",
       "    <tr style=\"text-align: right;\">\n",
       "      <th></th>\n",
       "      <th>username</th>\n",
       "      <th>description</th>\n",
       "      <th>location</th>\n",
       "      <th>following</th>\n",
       "      <th>followers</th>\n",
       "      <th>totaltweets</th>\n",
       "      <th>tweetid</th>\n",
       "      <th>source</th>\n",
       "      <th>tweetdate</th>\n",
       "      <th>tweetlength</th>\n",
       "      <th>likescount</th>\n",
       "      <th>retweetcount</th>\n",
       "      <th>text</th>\n",
       "      <th>hashtags</th>\n",
       "      <th>len_hashtags</th>\n",
       "      <th>city</th>\n",
       "      <th>country</th>\n",
       "      <th>Subjectivity</th>\n",
       "      <th>Polarity</th>\n",
       "      <th>Analysis</th>\n",
       "    </tr>\n",
       "  </thead>\n",
       "  <tbody>\n",
       "    <tr>\n",
       "      <th>0</th>\n",
       "      <td>MomAgainstMedia</td>\n",
       "      <td>Writer/Activist/MAM/Survivor fka Desi Foxx Fig...</td>\n",
       "      <td>Tampa Bay, FL USA</td>\n",
       "      <td>3054</td>\n",
       "      <td>2056</td>\n",
       "      <td>42554</td>\n",
       "      <td>1336822797360902145</td>\n",
       "      <td>ANDROID</td>\n",
       "      <td>2020-12-09</td>\n",
       "      <td>177</td>\n",
       "      <td>0</td>\n",
       "      <td>1</td>\n",
       "      <td>whole portfolio covid19vaccine free aborted fe...</td>\n",
       "      <td>['COVID19Vaccine']</td>\n",
       "      <td>1</td>\n",
       "      <td>Tampa Bay</td>\n",
       "      <td>USA</td>\n",
       "      <td>0.666667</td>\n",
       "      <td>0.333333</td>\n",
       "      <td>Positive</td>\n",
       "    </tr>\n",
       "    <tr>\n",
       "      <th>1</th>\n",
       "      <td>MadjaTee</td>\n",
       "      <td>Gardener, kayaker, hiker, “friend of Mara”, en...</td>\n",
       "      <td>New York, USA</td>\n",
       "      <td>336</td>\n",
       "      <td>89</td>\n",
       "      <td>3707</td>\n",
       "      <td>1336822562135945220</td>\n",
       "      <td>APPLE</td>\n",
       "      <td>2020-12-09</td>\n",
       "      <td>186</td>\n",
       "      <td>1</td>\n",
       "      <td>0</td>\n",
       "      <td>made available excited glad part reopen econom...</td>\n",
       "      <td>['COVID19Vaccine', 'JustDoIt']</td>\n",
       "      <td>2</td>\n",
       "      <td>New York</td>\n",
       "      <td>USA</td>\n",
       "      <td>0.560000</td>\n",
       "      <td>0.285000</td>\n",
       "      <td>Positive</td>\n",
       "    </tr>\n",
       "    <tr>\n",
       "      <th>2</th>\n",
       "      <td>ElsaWSOC9</td>\n",
       "      <td>Reporter @wsoctv\\nHost @Your704\\n@Cornell grad...</td>\n",
       "      <td>Charlotte, NC</td>\n",
       "      <td>582</td>\n",
       "      <td>3008</td>\n",
       "      <td>8211</td>\n",
       "      <td>1336822293901824009</td>\n",
       "      <td>APPLE</td>\n",
       "      <td>2020-12-09</td>\n",
       "      <td>81</td>\n",
       "      <td>1</td>\n",
       "      <td>2</td>\n",
       "      <td>questions covid19vaccine tune tcoek9euth4b6</td>\n",
       "      <td>['COVID19Vaccine']</td>\n",
       "      <td>1</td>\n",
       "      <td>Charlotte</td>\n",
       "      <td>USA</td>\n",
       "      <td>0.000000</td>\n",
       "      <td>0.000000</td>\n",
       "      <td>Neutral</td>\n",
       "    </tr>\n",
       "    <tr>\n",
       "      <th>3</th>\n",
       "      <td>jendlake</td>\n",
       "      <td>Theme Lead @uoftmedicine/ PhD student @ihpmeuo...</td>\n",
       "      <td>Toronto, ON CANADA</td>\n",
       "      <td>3921</td>\n",
       "      <td>2490</td>\n",
       "      <td>20177</td>\n",
       "      <td>1336821906364837888</td>\n",
       "      <td>ANDROID</td>\n",
       "      <td>2020-12-09</td>\n",
       "      <td>152</td>\n",
       "      <td>2</td>\n",
       "      <td>0</td>\n",
       "      <td>good thread covid covid19vaccine allergies ess...</td>\n",
       "      <td>['covid', 'COVID19Vaccine', 'allergies']</td>\n",
       "      <td>3</td>\n",
       "      <td>Toronto</td>\n",
       "      <td>CANADA</td>\n",
       "      <td>0.300000</td>\n",
       "      <td>0.233333</td>\n",
       "      <td>Positive</td>\n",
       "    </tr>\n",
       "    <tr>\n",
       "      <th>4</th>\n",
       "      <td>EddieMaqbool</td>\n",
       "      <td>NaN</td>\n",
       "      <td>Secaucus, NJ</td>\n",
       "      <td>27</td>\n",
       "      <td>2</td>\n",
       "      <td>104</td>\n",
       "      <td>1336821674109497351</td>\n",
       "      <td>ANDROID</td>\n",
       "      <td>2020-12-09</td>\n",
       "      <td>232</td>\n",
       "      <td>3</td>\n",
       "      <td>0</td>\n",
       "      <td>f israel getting vaccine uk canada approved st...</td>\n",
       "      <td>['COVID19', 'COVID19Vaccine', 'COVID']</td>\n",
       "      <td>3</td>\n",
       "      <td>Secaucus</td>\n",
       "      <td>USA</td>\n",
       "      <td>0.500000</td>\n",
       "      <td>-0.250000</td>\n",
       "      <td>Negative</td>\n",
       "    </tr>\n",
       "  </tbody>\n",
       "</table>\n",
       "</div>"
      ],
      "text/plain": [
       "          username                                        description  \\\n",
       "0  MomAgainstMedia  Writer/Activist/MAM/Survivor fka Desi Foxx Fig...   \n",
       "1         MadjaTee  Gardener, kayaker, hiker, “friend of Mara”, en...   \n",
       "2        ElsaWSOC9  Reporter @wsoctv\\nHost @Your704\\n@Cornell grad...   \n",
       "3         jendlake  Theme Lead @uoftmedicine/ PhD student @ihpmeuo...   \n",
       "4     EddieMaqbool                                                NaN   \n",
       "\n",
       "             location  following  followers  totaltweets              tweetid  \\\n",
       "0   Tampa Bay, FL USA       3054       2056        42554  1336822797360902145   \n",
       "1       New York, USA        336         89         3707  1336822562135945220   \n",
       "2       Charlotte, NC        582       3008         8211  1336822293901824009   \n",
       "3  Toronto, ON CANADA       3921       2490        20177  1336821906364837888   \n",
       "4        Secaucus, NJ         27          2          104  1336821674109497351   \n",
       "\n",
       "    source   tweetdate  tweetlength  likescount  retweetcount  \\\n",
       "0  ANDROID  2020-12-09          177           0             1   \n",
       "1    APPLE  2020-12-09          186           1             0   \n",
       "2    APPLE  2020-12-09           81           1             2   \n",
       "3  ANDROID  2020-12-09          152           2             0   \n",
       "4  ANDROID  2020-12-09          232           3             0   \n",
       "\n",
       "                                                text  \\\n",
       "0  whole portfolio covid19vaccine free aborted fe...   \n",
       "1  made available excited glad part reopen econom...   \n",
       "2        questions covid19vaccine tune tcoek9euth4b6   \n",
       "3  good thread covid covid19vaccine allergies ess...   \n",
       "4  f israel getting vaccine uk canada approved st...   \n",
       "\n",
       "                                   hashtags  len_hashtags       city country  \\\n",
       "0                        ['COVID19Vaccine']             1  Tampa Bay     USA   \n",
       "1            ['COVID19Vaccine', 'JustDoIt']             2   New York     USA   \n",
       "2                        ['COVID19Vaccine']             1  Charlotte     USA   \n",
       "3  ['covid', 'COVID19Vaccine', 'allergies']             3    Toronto  CANADA   \n",
       "4    ['COVID19', 'COVID19Vaccine', 'COVID']             3   Secaucus     USA   \n",
       "\n",
       "   Subjectivity  Polarity  Analysis  \n",
       "0      0.666667  0.333333  Positive  \n",
       "1      0.560000  0.285000  Positive  \n",
       "2      0.000000  0.000000   Neutral  \n",
       "3      0.300000  0.233333  Positive  \n",
       "4      0.500000 -0.250000  Negative  "
      ]
     },
     "execution_count": 50,
     "metadata": {},
     "output_type": "execute_result"
    }
   ],
   "source": [
    "Data = pd.read_csv(r\"C:\\Users\\samer\\Desktop\\Project_Latest\\all_cleaned.csv\", encoding=\"utf8\")\n",
    "Data = Data.loc[:, ~Data.columns.str.startswith('Unnamed')]\n",
    "\n",
    "Data.head()"
   ]
  },
  {
   "cell_type": "code",
   "execution_count": 166,
   "metadata": {},
   "outputs": [
    {
     "data": {
      "text/html": [
       "<div>\n",
       "<style scoped>\n",
       "    .dataframe tbody tr th:only-of-type {\n",
       "        vertical-align: middle;\n",
       "    }\n",
       "\n",
       "    .dataframe tbody tr th {\n",
       "        vertical-align: top;\n",
       "    }\n",
       "\n",
       "    .dataframe thead th {\n",
       "        text-align: right;\n",
       "    }\n",
       "</style>\n",
       "<table border=\"1\" class=\"dataframe\">\n",
       "  <thead>\n",
       "    <tr style=\"text-align: right;\">\n",
       "      <th></th>\n",
       "      <th>Analysis</th>\n",
       "    </tr>\n",
       "  </thead>\n",
       "  <tbody>\n",
       "    <tr>\n",
       "      <th>Positive</th>\n",
       "      <td>928</td>\n",
       "    </tr>\n",
       "    <tr>\n",
       "      <th>Neutral</th>\n",
       "      <td>735</td>\n",
       "    </tr>\n",
       "    <tr>\n",
       "      <th>Negative</th>\n",
       "      <td>255</td>\n",
       "    </tr>\n",
       "  </tbody>\n",
       "</table>\n",
       "</div>"
      ],
      "text/plain": [
       "          Analysis\n",
       "Positive       928\n",
       "Neutral        735\n",
       "Negative       255"
      ]
     },
     "execution_count": 166,
     "metadata": {},
     "output_type": "execute_result"
    }
   ],
   "source": [
    "x = Data.Analysis.value_counts()\n",
    "x = pd.DataFrame(x)\n",
    "x"
   ]
  },
  {
   "cell_type": "code",
   "execution_count": 61,
   "metadata": {},
   "outputs": [],
   "source": [
    "# Number of Tweets by Country\n",
    "No_Tweets_Country = Data.groupby(by=[\"country\"])[\"tweetid\"].count()\n",
    "No_Tweets_Country = pd.DataFrame(No_Tweets_Country)\n",
    "No_Tweets_Country = No_Tweets_Country.sort_values(by=['tweetid'], ascending=False)[0:5]\n",
    "No_Tweets_Country.reset_index(level=0, inplace=True)"
   ]
  },
  {
   "cell_type": "code",
   "execution_count": 62,
   "metadata": {
    "scrolled": true
   },
   "outputs": [
    {
     "data": {
      "text/html": [
       "<div>\n",
       "<style scoped>\n",
       "    .dataframe tbody tr th:only-of-type {\n",
       "        vertical-align: middle;\n",
       "    }\n",
       "\n",
       "    .dataframe tbody tr th {\n",
       "        vertical-align: top;\n",
       "    }\n",
       "\n",
       "    .dataframe thead th {\n",
       "        text-align: right;\n",
       "    }\n",
       "</style>\n",
       "<table border=\"1\" class=\"dataframe\">\n",
       "  <thead>\n",
       "    <tr style=\"text-align: right;\">\n",
       "      <th></th>\n",
       "      <th>country</th>\n",
       "      <th>tweetid</th>\n",
       "    </tr>\n",
       "  </thead>\n",
       "  <tbody>\n",
       "    <tr>\n",
       "      <th>0</th>\n",
       "      <td>USA</td>\n",
       "      <td>802</td>\n",
       "    </tr>\n",
       "    <tr>\n",
       "      <th>1</th>\n",
       "      <td>ENGLAND</td>\n",
       "      <td>322</td>\n",
       "    </tr>\n",
       "    <tr>\n",
       "      <th>2</th>\n",
       "      <td>INDIA</td>\n",
       "      <td>188</td>\n",
       "    </tr>\n",
       "    <tr>\n",
       "      <th>3</th>\n",
       "      <td>CANADA</td>\n",
       "      <td>150</td>\n",
       "    </tr>\n",
       "    <tr>\n",
       "      <th>4</th>\n",
       "      <td>EUROPE</td>\n",
       "      <td>53</td>\n",
       "    </tr>\n",
       "  </tbody>\n",
       "</table>\n",
       "</div>"
      ],
      "text/plain": [
       "   country  tweetid\n",
       "0      USA      802\n",
       "1  ENGLAND      322\n",
       "2    INDIA      188\n",
       "3   CANADA      150\n",
       "4   EUROPE       53"
      ]
     },
     "execution_count": 62,
     "metadata": {},
     "output_type": "execute_result"
    }
   ],
   "source": [
    "No_Tweets_Country"
   ]
  },
  {
   "cell_type": "code",
   "execution_count": 63,
   "metadata": {},
   "outputs": [
    {
     "data": {
      "image/png": "[encoded data removed]",
      "text/plain": [
       "<Figure size 576x360 with 1 Axes>"
      ]
     },
     "metadata": {
      "needs_background": "light"
     },
     "output_type": "display_data"
    }
   ],
   "source": [
    "#New_Colors = ['green',\"yellow\", 'blue','purple','brown','teal', \"black\", \"orange\", \"red\", \"cyan\"]\n",
    "\n",
    "f, ax = plt.subplots(figsize=(8,5))\n",
    "\n",
    "ax.bar(No_Tweets_Country[\"country\"], No_Tweets_Country[\"tweetid\"], color = \"purple\")\n",
    "\n",
    "plt.title('Number of Tweets per Country', fontsize=14)\n",
    "plt.xlabel('Country', fontsize=14)\n",
    "plt.ylabel('Number of Tweets', fontsize=14)\n",
    "plt.show()"
   ]
  },
  {
   "cell_type": "code",
   "execution_count": 69,
   "metadata": {},
   "outputs": [
    {
     "data": {
      "image/png": "[encoded data removed]",
      "text/plain": [
       "<Figure size 432x288 with 1 Axes>"
      ]
     },
     "metadata": {
      "needs_background": "light"
     },
     "output_type": "display_data"
    }
   ],
   "source": [
    "# Number of Unique Countries per Analysis\n",
    "No_of_Country_Analysis = Data.groupby([\"Analysis\"]).country.nunique()\n",
    "\n",
    "No_of_Country_Analysis = pd.DataFrame(No_of_Country_Analysis)\n",
    "No_of_Country_Analysis.reset_index(level=0, inplace=True)\n",
    "\n",
    "New_Colors = ['cyan','dodgerblue','mediumblue']\n",
    "\n",
    "plt.barh(No_of_Country_Analysis[\"Analysis\"], No_of_Country_Analysis[\"country\"], color = New_Colors)\n",
    "\n",
    "plt.title('Number of Countries per Analysis Category', fontsize=14)\n",
    "plt.ylabel('Analysis', fontsize=14)\n",
    "plt.xlabel('Number of Countries', fontsize=14)\n",
    "plt.show()"
   ]
  },
  {
   "cell_type": "code",
   "execution_count": 78,
   "metadata": {},
   "outputs": [
    {
     "data": {
      "image/png": "[encoded data removed]",
      "text/plain": [
       "<Figure size 432x288 with 1 Axes>"
      ]
     },
     "metadata": {
      "needs_background": "light"
     },
     "output_type": "display_data"
    }
   ],
   "source": [
    "# Reach of each Analysis (Number of Followers)\n",
    "No_of_Followers_Analysis = Data.groupby([\"Analysis\"]).followers.sum()\n",
    "\n",
    "No_of_Followers_Analysis = pd.DataFrame(No_of_Followers_Analysis)\n",
    "No_of_Followers_Analysis.reset_index(level=0, inplace=True)\n",
    "\n",
    "New_Colors = ['greenyellow','limegreen','darkgreen']\n",
    "\n",
    "plt.bar(No_of_Followers_Analysis[\"Analysis\"], No_of_Followers_Analysis[\"followers\"], color = New_Colors)\n",
    "\n",
    "plt.title('Number of Followers by Analysis', fontsize=14)\n",
    "plt.xlabel('Analysis', fontsize=14)\n",
    "plt.ylabel('Number of Followers', fontsize=14)\n",
    "plt.show()"
   ]
  },
  {
   "cell_type": "code",
   "execution_count": 83,
   "metadata": {},
   "outputs": [],
   "source": [
    "import seaborn as sns"
   ]
  },
  {
   "cell_type": "code",
   "execution_count": 84,
   "metadata": {},
   "outputs": [
    {
     "data": {
      "text/plain": [
       "<AxesSubplot:xlabel='Analysis', ylabel='followers'>"
      ]
     },
     "execution_count": 84,
     "metadata": {},
     "output_type": "execute_result"
    },
    {
     "data": {
      "image/png": "[encoded data removed]",
      "text/plain": [
       "<Figure size 720x576 with 1 Axes>"
      ]
     },
     "metadata": {
      "needs_background": "light"
     },
     "output_type": "display_data"
    }
   ],
   "source": [
    "# Followers by Tweet Analysis\n",
    "a4_dims = (10, 8)\n",
    "fig, ax = plt.subplots(figsize=a4_dims)\n",
    "sns.boxplot(y='followers', x='Analysis', \n",
    "                 data=Data, ax=ax, \n",
    "                 palette=\"mako\", showfliers = False)"
   ]
  },
  {
   "cell_type": "code",
   "execution_count": 86,
   "metadata": {},
   "outputs": [
    {
     "data": {
      "image/png": "[encoded data removed]",
      "text/plain": [
       "<Figure size 432x288 with 1 Axes>"
      ]
     },
     "metadata": {
      "needs_background": "light"
     },
     "output_type": "display_data"
    }
   ],
   "source": [
    "fig=plt.figure()\n",
    "ax=fig.add_axes([0,0,1,1])\n",
    "\n",
    "p1 = ax.scatter(Data[\"followers\"], Data[\"likescount\"], color='blue', label = \"Likes\")\n",
    "p2 = ax.scatter(Data[\"followers\"], Data[\"retweetcount\"], color='orange', label = \"Retweets\")\n",
    "ax.set_xlabel('Number of Followers')\n",
    "ax.set_ylabel('Number of Likes and Retweets')\n",
    "ax.set_title('Scatter plot')\n",
    "\n",
    "ax.legend([p1, p2], [\"Likes\", \"Retweets\"])\n",
    "\n",
    "plt.show()"
   ]
  },
  {
   "cell_type": "code",
   "execution_count": 38,
   "metadata": {},
   "outputs": [
    {
     "data": {
      "image/png": "[encoded data removed]",
      "text/plain": [
       "<Figure size 792x576 with 2 Axes>"
      ]
     },
     "metadata": {
      "needs_background": "light"
     },
     "output_type": "display_data"
    }
   ],
   "source": [
    "# Correlation Heat Map\n",
    "num_variables = Data[[\"following\", \"followers\", \"totaltweets\", \"tweetlength\", \"likescount\", \"retweetcount\"]]\n",
    "plt.figure(figsize=(11, 8))\n",
    "heatmap = sns.heatmap(num_variables.corr(), vmin=-1, vmax=1, annot=True, cmap=\"Greys\")\n",
    "heatmap.set_title('Correlation Heatmap', fontdict={'fontsize':12}, pad=12);"
   ]
  },
  {
   "cell_type": "code",
   "execution_count": 93,
   "metadata": {
    "scrolled": false
   },
   "outputs": [
    {
     "data": {
      "image/png": "[encoded data removed]",
      "text/plain": [
       "<Figure size 432x288 with 1 Axes>"
      ]
     },
     "metadata": {
      "needs_background": "light"
     },
     "output_type": "display_data"
    }
   ],
   "source": [
    "fig=plt.figure()\n",
    "ax=fig.add_axes([0,0,1,1])\n",
    "\n",
    "p1 = ax.scatter(Data[\"len_hashtags\"], Data[\"likescount\"], color='limegreen', label = \"Likes\")\n",
    "p2 = ax.scatter(Data[\"len_hashtags\"], Data[\"retweetcount\"], color='black', label = \"Retweets\")\n",
    "ax.set_xlabel('Number of Hashtags')\n",
    "ax.set_ylabel('Number of Likes and Retweets')\n",
    "ax.set_title('Scatter plot')\n",
    "\n",
    "ax.legend([p1, p2], [\"Likes\", \"Retweets\"])\n",
    "\n",
    "plt.show()"
   ]
  },
  {
   "cell_type": "code",
   "execution_count": 129,
   "metadata": {},
   "outputs": [
    {
     "data": {
      "text/html": [
       "<div>\n",
       "<style scoped>\n",
       "    .dataframe tbody tr th:only-of-type {\n",
       "        vertical-align: middle;\n",
       "    }\n",
       "\n",
       "    .dataframe tbody tr th {\n",
       "        vertical-align: top;\n",
       "    }\n",
       "\n",
       "    .dataframe thead th {\n",
       "        text-align: right;\n",
       "    }\n",
       "</style>\n",
       "<table border=\"1\" class=\"dataframe\">\n",
       "  <thead>\n",
       "    <tr style=\"text-align: right;\">\n",
       "      <th></th>\n",
       "      <th>source</th>\n",
       "      <th>tweetid</th>\n",
       "    </tr>\n",
       "  </thead>\n",
       "  <tbody>\n",
       "    <tr>\n",
       "      <th>0</th>\n",
       "      <td>APPLE</td>\n",
       "      <td>643</td>\n",
       "    </tr>\n",
       "    <tr>\n",
       "      <th>1</th>\n",
       "      <td>WEB</td>\n",
       "      <td>642</td>\n",
       "    </tr>\n",
       "    <tr>\n",
       "      <th>2</th>\n",
       "      <td>ANDROID</td>\n",
       "      <td>370</td>\n",
       "    </tr>\n",
       "    <tr>\n",
       "      <th>3</th>\n",
       "      <td>TWEETDECK</td>\n",
       "      <td>108</td>\n",
       "    </tr>\n",
       "    <tr>\n",
       "      <th>4</th>\n",
       "      <td>HOOTSUITE INC.</td>\n",
       "      <td>52</td>\n",
       "    </tr>\n",
       "    <tr>\n",
       "      <th>5</th>\n",
       "      <td>BUFFER</td>\n",
       "      <td>20</td>\n",
       "    </tr>\n",
       "    <tr>\n",
       "      <th>6</th>\n",
       "      <td>SPROUT SOCIAL</td>\n",
       "      <td>11</td>\n",
       "    </tr>\n",
       "    <tr>\n",
       "      <th>7</th>\n",
       "      <td>DLVR.IT</td>\n",
       "      <td>7</td>\n",
       "    </tr>\n",
       "    <tr>\n",
       "      <th>8</th>\n",
       "      <td>TWITTER MEDIA STUDIO</td>\n",
       "      <td>7</td>\n",
       "    </tr>\n",
       "    <tr>\n",
       "      <th>9</th>\n",
       "      <td>SOCIALFLOW</td>\n",
       "      <td>6</td>\n",
       "    </tr>\n",
       "    <tr>\n",
       "      <th>10</th>\n",
       "      <td>NATIONAL HERALD</td>\n",
       "      <td>5</td>\n",
       "    </tr>\n",
       "    <tr>\n",
       "      <th>11</th>\n",
       "      <td>WORDPRESS.COM</td>\n",
       "      <td>5</td>\n",
       "    </tr>\n",
       "    <tr>\n",
       "      <th>12</th>\n",
       "      <td>HUBSPOT</td>\n",
       "      <td>4</td>\n",
       "    </tr>\n",
       "    <tr>\n",
       "      <th>13</th>\n",
       "      <td>ECLINCHER</td>\n",
       "      <td>4</td>\n",
       "    </tr>\n",
       "    <tr>\n",
       "      <th>14</th>\n",
       "      <td>PERISCOPE</td>\n",
       "      <td>4</td>\n",
       "    </tr>\n",
       "    <tr>\n",
       "      <th>15</th>\n",
       "      <td>COSCHEDULE</td>\n",
       "      <td>3</td>\n",
       "    </tr>\n",
       "    <tr>\n",
       "      <th>16</th>\n",
       "      <td>HAPPS NEWS</td>\n",
       "      <td>2</td>\n",
       "    </tr>\n",
       "    <tr>\n",
       "      <th>17</th>\n",
       "      <td>LIBSYN ON-PUBLISH</td>\n",
       "      <td>2</td>\n",
       "    </tr>\n",
       "    <tr>\n",
       "      <th>18</th>\n",
       "      <td>TWITTER FOR MAC</td>\n",
       "      <td>2</td>\n",
       "    </tr>\n",
       "    <tr>\n",
       "      <th>19</th>\n",
       "      <td>WILL LOCKWOOD</td>\n",
       "      <td>2</td>\n",
       "    </tr>\n",
       "    <tr>\n",
       "      <th>20</th>\n",
       "      <td>SENDIBLE</td>\n",
       "      <td>2</td>\n",
       "    </tr>\n",
       "    <tr>\n",
       "      <th>21</th>\n",
       "      <td>AGORAPULSE MANAGER</td>\n",
       "      <td>2</td>\n",
       "    </tr>\n",
       "    <tr>\n",
       "      <th>22</th>\n",
       "      <td>SPRINKLR</td>\n",
       "      <td>1</td>\n",
       "    </tr>\n",
       "    <tr>\n",
       "      <th>23</th>\n",
       "      <td>TUMBLR</td>\n",
       "      <td>1</td>\n",
       "    </tr>\n",
       "    <tr>\n",
       "      <th>24</th>\n",
       "      <td>SPRINKLR PUBLISHING</td>\n",
       "      <td>1</td>\n",
       "    </tr>\n",
       "    <tr>\n",
       "      <th>25</th>\n",
       "      <td>PAPER.LI</td>\n",
       "      <td>1</td>\n",
       "    </tr>\n",
       "    <tr>\n",
       "      <th>26</th>\n",
       "      <td>SOCIALNEWSDESK</td>\n",
       "      <td>1</td>\n",
       "    </tr>\n",
       "    <tr>\n",
       "      <th>27</th>\n",
       "      <td>SOCIALBAKERS</td>\n",
       "      <td>1</td>\n",
       "    </tr>\n",
       "    <tr>\n",
       "      <th>28</th>\n",
       "      <td>SMARP.</td>\n",
       "      <td>1</td>\n",
       "    </tr>\n",
       "    <tr>\n",
       "      <th>29</th>\n",
       "      <td>SKED SOCIAL</td>\n",
       "      <td>1</td>\n",
       "    </tr>\n",
       "    <tr>\n",
       "      <th>30</th>\n",
       "      <td>ONLYWIRE APP</td>\n",
       "      <td>1</td>\n",
       "    </tr>\n",
       "    <tr>\n",
       "      <th>31</th>\n",
       "      <td>MAILCHIMP</td>\n",
       "      <td>1</td>\n",
       "    </tr>\n",
       "    <tr>\n",
       "      <th>32</th>\n",
       "      <td>LOOMLY</td>\n",
       "      <td>1</td>\n",
       "    </tr>\n",
       "    <tr>\n",
       "      <th>33</th>\n",
       "      <td>INDIAPOST</td>\n",
       "      <td>1</td>\n",
       "    </tr>\n",
       "    <tr>\n",
       "      <th>34</th>\n",
       "      <td>EASTMOJO</td>\n",
       "      <td>1</td>\n",
       "    </tr>\n",
       "    <tr>\n",
       "      <th>35</th>\n",
       "      <td>BLOG2SOCIAL APP</td>\n",
       "      <td>1</td>\n",
       "    </tr>\n",
       "    <tr>\n",
       "      <th>36</th>\n",
       "      <td>ZOHO SOCIAL</td>\n",
       "      <td>1</td>\n",
       "    </tr>\n",
       "  </tbody>\n",
       "</table>\n",
       "</div>"
      ],
      "text/plain": [
       "                  source  tweetid\n",
       "0                  APPLE      643\n",
       "1                    WEB      642\n",
       "2                ANDROID      370\n",
       "3              TWEETDECK      108\n",
       "4         HOOTSUITE INC.       52\n",
       "5                 BUFFER       20\n",
       "6          SPROUT SOCIAL       11\n",
       "7                DLVR.IT        7\n",
       "8   TWITTER MEDIA STUDIO        7\n",
       "9             SOCIALFLOW        6\n",
       "10       NATIONAL HERALD        5\n",
       "11         WORDPRESS.COM        5\n",
       "12               HUBSPOT        4\n",
       "13             ECLINCHER        4\n",
       "14             PERISCOPE        4\n",
       "15            COSCHEDULE        3\n",
       "16            HAPPS NEWS        2\n",
       "17     LIBSYN ON-PUBLISH        2\n",
       "18       TWITTER FOR MAC        2\n",
       "19         WILL LOCKWOOD        2\n",
       "20              SENDIBLE        2\n",
       "21    AGORAPULSE MANAGER        2\n",
       "22              SPRINKLR        1\n",
       "23                TUMBLR        1\n",
       "24   SPRINKLR PUBLISHING        1\n",
       "25              PAPER.LI        1\n",
       "26        SOCIALNEWSDESK        1\n",
       "27          SOCIALBAKERS        1\n",
       "28                SMARP.        1\n",
       "29           SKED SOCIAL        1\n",
       "30          ONLYWIRE APP        1\n",
       "31             MAILCHIMP        1\n",
       "32                LOOMLY        1\n",
       "33             INDIAPOST        1\n",
       "34              EASTMOJO        1\n",
       "35       BLOG2SOCIAL APP        1\n",
       "36           ZOHO SOCIAL        1"
      ]
     },
     "execution_count": 129,
     "metadata": {},
     "output_type": "execute_result"
    }
   ],
   "source": [
    "No_of_tweets_per_source = Data.groupby(['source']).tweetid.count()\n",
    "No_of_tweets_per_source = pd.DataFrame(No_of_tweets_per_source)\n",
    "No_of_tweets_per_source = No_of_tweets_per_source.sort_values(by=['tweetid'], ascending=False)\n",
    "No_of_tweets_per_source.reset_index(level=0, inplace=True)\n",
    "No_of_tweets_per_source"
   ]
  },
  {
   "cell_type": "code",
   "execution_count": 138,
   "metadata": {},
   "outputs": [
    {
     "data": {
      "text/html": [
       "<div>\n",
       "<style scoped>\n",
       "    .dataframe tbody tr th:only-of-type {\n",
       "        vertical-align: middle;\n",
       "    }\n",
       "\n",
       "    .dataframe tbody tr th {\n",
       "        vertical-align: top;\n",
       "    }\n",
       "\n",
       "    .dataframe thead th {\n",
       "        text-align: right;\n",
       "    }\n",
       "</style>\n",
       "<table border=\"1\" class=\"dataframe\">\n",
       "  <thead>\n",
       "    <tr style=\"text-align: right;\">\n",
       "      <th></th>\n",
       "      <th>source</th>\n",
       "      <th>tweetid</th>\n",
       "    </tr>\n",
       "  </thead>\n",
       "  <tbody>\n",
       "    <tr>\n",
       "      <th>0</th>\n",
       "      <td>APPLE</td>\n",
       "      <td>643</td>\n",
       "    </tr>\n",
       "    <tr>\n",
       "      <th>1</th>\n",
       "      <td>WEB</td>\n",
       "      <td>642</td>\n",
       "    </tr>\n",
       "    <tr>\n",
       "      <th>2</th>\n",
       "      <td>ANDROID</td>\n",
       "      <td>370</td>\n",
       "    </tr>\n",
       "    <tr>\n",
       "      <th>3</th>\n",
       "      <td>OTHER</td>\n",
       "      <td>263</td>\n",
       "    </tr>\n",
       "  </tbody>\n",
       "</table>\n",
       "</div>"
      ],
      "text/plain": [
       "    source  tweetid\n",
       "0    APPLE      643\n",
       "1      WEB      642\n",
       "2  ANDROID      370\n",
       "3    OTHER      263"
      ]
     },
     "execution_count": 138,
     "metadata": {},
     "output_type": "execute_result"
    }
   ],
   "source": [
    "No_of_tweets_per_source['source'] = ['OTHER' if (x != \"APPLE\" and x != \"WEB\" and x != \"ANDROID\") else x for x in No_of_tweets_per_source['source']]\n",
    "No_of_tweets_per_source_modified = No_of_tweets_per_source.groupby(['source']).tweetid.sum()\n",
    "\n",
    "No_of_tweets_per_source_modified = pd.DataFrame(No_of_tweets_per_source_modified)\n",
    "No_of_tweets_per_source_modified = No_of_tweets_per_source_modified.sort_values(by=['tweetid'], ascending=False)\n",
    "No_of_tweets_per_source_modified.reset_index(level=0, inplace=True)\n",
    "No_of_tweets_per_source_modified"
   ]
  },
  {
   "cell_type": "code",
   "execution_count": 139,
   "metadata": {},
   "outputs": [
    {
     "data": {
      "image/png": "[encoded data removed]",
      "text/plain": [
       "<Figure size 648x648 with 1 Axes>"
      ]
     },
     "metadata": {},
     "output_type": "display_data"
    }
   ],
   "source": [
    "fig1, ax1 = plt.subplots()\n",
    "fig1.set_size_inches(9,9) \n",
    "\n",
    "cmap = plt.get_cmap(\"tab20c\")\n",
    "inner_colors = cmap(np.array([0, 1, 2, 3]))\n",
    "\n",
    "ax1.set_title('Percentage of Tweets per Source', \n",
    "             bbox={'facecolor':'0.8', 'pad':3})\n",
    "\n",
    "ax1.pie(No_of_tweets_per_source_modified['tweetid'], labels=No_of_tweets_per_source_modified['source'], autopct='%1.2f%%', radius=1, colors = inner_colors)\n",
    "plt.show()"
   ]
  },
  {
   "cell_type": "code",
   "execution_count": 170,
   "metadata": {
    "scrolled": false
   },
   "outputs": [
    {
     "data": {
      "image/png": "[encoded data removed]",
      "text/plain": [
       "<Figure size 720x576 with 1 Axes>"
      ]
     },
     "metadata": {
      "needs_background": "light"
     },
     "output_type": "display_data"
    }
   ],
   "source": [
    "Followers_by_country = Data.groupby(by=[\"country\"])[\"followers\"].sum()\n",
    "Followers_by_country  = pd.DataFrame(Followers_by_country )\n",
    "Followers_by_country=Followers_by_country['followers'].sort_values(ascending=False)[0:5]\n",
    "Followers_by_country  = pd.DataFrame(Followers_by_country)\n",
    "Followers_by_country.reset_index(level=0, inplace=True)\n",
    "Followers_by_country\n",
    "fig, ax = plt.subplots(figsize =(10, 8)) \n",
    "plt.bar(Followers_by_country [\"country\"], Followers_by_country [\"followers\"], color = \"darkblue\")\n",
    "plt.title('Number of Followers by Country')\n",
    "plt.show()"
   ]
  },
  {
   "cell_type": "code",
   "execution_count": 153,
   "metadata": {},
   "outputs": [
    {
     "name": "stdout",
     "output_type": "stream",
     "text": [
      "   Analysis  likescount\n",
      "0  Negative        2125\n",
      "1   Neutral        2066\n",
      "2  Positive       10653\n"
     ]
    },
    {
     "data": {
      "image/png": "[encoded data removed]",
      "text/plain": [
       "<Figure size 360x360 with 1 Axes>"
      ]
     },
     "metadata": {
      "needs_background": "light"
     },
     "output_type": "display_data"
    }
   ],
   "source": [
    "#polarity vs likes\n",
    "likes_by_analysis = Data.groupby(by=[\"Analysis\"])[\"likescount\"].sum()\n",
    "likes_by_analysis  = pd.DataFrame(likes_by_analysis)\n",
    "likes_by_analysis .reset_index(level=0, inplace=True)\n",
    "\n",
    "New_Colors = ['cyan','dodgerblue','mediumblue']\n",
    "fig, ax = plt.subplots(figsize =(5, 5)) \n",
    "plt.bar(likes_by_analysis[\"Analysis\"], likes_by_analysis[\"likescount\"], color = New_Colors)\n",
    "\n",
    "plt.title('Number of Likes by Polarity')\n",
    "\n",
    "plt.show()"
   ]
  },
  {
   "cell_type": "code",
   "execution_count": 58,
   "metadata": {},
   "outputs": [
    {
     "data": {
      "text/plain": [
       "[751, 19, 949, 952, 3008, 48065, 963, 12597, 967, 5034]"
      ]
     },
     "execution_count": 58,
     "metadata": {},
     "output_type": "execute_result"
    }
   ],
   "source": [
    "top_users = Data['username'].value_counts(normalize=False, sort=True, ascending=False)[0:10]\n",
    "top_users = Data.loc[Data['followers']==Data['followers'].max(),[\"followers\",\"text\"]]\n",
    "popular = Data['followers'].value_counts(normalize=False, sort=True, ascending=True).index.tolist()\n",
    "Data.loc[Data[\"followers\"].isin(popular),[\"followers\",\"text\"]]\n",
    "popular[0:10]\n",
    "# popular\n",
    "#the highest 20 users in terms of followers\n",
    "data2= data.nlargest(20, ['followers']).loc[:,[\"followers\",\"text\"]]\n",
    "data2.head(20)"
   ]
  },
  {
   "cell_type": "code",
   "execution_count": 173,
   "metadata": {},
   "outputs": [
    {
     "data": {
      "text/plain": [
       "Text(0.5, 1.0, 'Number of Tweet per Day')"
      ]
     },
     "execution_count": 173,
     "metadata": {},
     "output_type": "execute_result"
    },
    {
     "data": {
      "image/png": "[encoded data removed]",
      "text/plain": [
       "<Figure size 432x288 with 1 Axes>"
      ]
     },
     "metadata": {
      "needs_background": "light"
     },
     "output_type": "display_data"
    }
   ],
   "source": [
    "Data['tweetdate'].value_counts().plot(kind='bar')\n",
    "plt.title('Number of Tweet per Day')"
   ]
  },
  {
   "cell_type": "code",
   "execution_count": 177,
   "metadata": {},
   "outputs": [
    {
     "data": {
      "text/plain": [
       "{'the_hindu': 1.3916666666666666,\n",
       " 'DDNewslive': 1.1478354978354979,\n",
       " 'airnewsalerts': 1.2,\n",
       " 'firstpost': 0.0,\n",
       " 'katiecouric': 0.175,\n",
       " 'FinancialXpress': 0.26666666666666666,\n",
       " 'otvnews': 0.0,\n",
       " 'MumbaiMirror': -0.25,\n",
       " 'HarvardChanSPH': 0.0,\n",
       " 'DhakaTribune': 2.0}"
      ]
     },
     "execution_count": 177,
     "metadata": {},
     "output_type": "execute_result"
    },
    {
     "data": {
      "image/png": "[encoded data removed]",
      "text/plain": [
       "<Figure size 1296x360 with 1 Axes>"
      ]
     },
     "metadata": {
      "needs_background": "light"
     },
     "output_type": "display_data"
    }
   ],
   "source": [
    "top_user_by_followers = Data.sort_values(by='followers', ascending=False).drop_duplicates(subset=['username'])[:10]['username']\n",
    "users_polarity = {}\n",
    "for user in top_user_by_followers:\n",
    "    users_polarity[user] = Data.groupby(by=[\"username\"]).get_group(user)[\"Polarity\"].sum()\n",
    "f, ax = plt.subplots(figsize=(18,5))\n",
    "plt.bar(users_polarity.keys(), users_polarity.values())\n",
    "\n",
    "top_user_by_followers\n",
    "users_polarity"
   ]
  },
  {
   "cell_type": "code",
   "execution_count": 192,
   "metadata": {},
   "outputs": [
    {
     "data": {
      "text/plain": [
       "latestly           38\n",
       "JagranEnglish      14\n",
       "timethief          12\n",
       "editorji           11\n",
       "thebuddhistgoth    10\n",
       "DhakaTribune       10\n",
       "the_hindu           9\n",
       "MicheleD2020        8\n",
       "juliettejenn03      8\n",
       "HolisticZombie      8\n",
       "Name: username, dtype: int64"
      ]
     },
     "execution_count": 192,
     "metadata": {},
     "output_type": "execute_result"
    }
   ],
   "source": [
    "Data['username'].value_counts(normalize=False, sort=True, ascending=False)[0:10]"
   ]
  },
  {
   "cell_type": "code",
   "execution_count": 184,
   "metadata": {},
   "outputs": [
    {
     "data": {
      "text/plain": [
       "<BarContainer object of 10 artists>"
      ]
     },
     "execution_count": 184,
     "metadata": {},
     "output_type": "execute_result"
    },
    {
     "data": {
      "image/png": "[encoded data removed]",
      "text/plain": [
       "<Figure size 1296x360 with 1 Axes>"
      ]
     },
     "metadata": {
      "needs_background": "light"
     },
     "output_type": "display_data"
    }
   ],
   "source": [
    "top_frequent_users = Data.username.value_counts()[:10]\n",
    "top_frequent_users = top_frequent_users.keys()\n",
    "freq_users_polarity = {}\n",
    "for user in top_frequent_users:\n",
    "    freq_users_polarity[user] = Data.groupby(by=[\"username\"]).get_group(user)[\"Polarity\"].sum()\n",
    "f, ax = plt.subplots(figsize=(18,5))\n",
    "plt.bar(freq_users_polarity.keys(), freq_users_polarity.values())"
   ]
  },
  {
   "cell_type": "code",
   "execution_count": 193,
   "metadata": {},
   "outputs": [
    {
     "data": {
      "text/plain": [
       "<BarContainer object of 5 artists>"
      ]
     },
     "execution_count": 193,
     "metadata": {},
     "output_type": "execute_result"
    },
    {
     "data": {
      "image/png": "[encoded data removed]",
      "text/plain": [
       "<Figure size 1296x360 with 1 Axes>"
      ]
     },
     "metadata": {
      "needs_background": "light"
     },
     "output_type": "display_data"
    }
   ],
   "source": [
    "top_countries_names = Data['country'].value_counts(normalize=False, sort=True, ascending=False).index.tolist()[:5]\n",
    "top_countries_counts = Data['country'].value_counts(normalize=False, sort=True, ascending=False).tolist()[:5]\n",
    "\n",
    "countries_positivity = {}\n",
    "i =0 \n",
    "for country in top_countries_names:\n",
    "    by_country = Data.groupby(by=[\"country\"]).get_group(country)\n",
    "    score = by_country[\"Polarity\"].sum()/by_country['tweetid'].count()\n",
    "    i += 1\n",
    "    countries_positivity[country] =  score\n",
    "# print(countries_positivity)\n",
    "f, ax = plt.subplots(figsize=(18,5))\n",
    "plt.bar(countries_positivity.keys(), countries_positivity.values())"
   ]
  },
  {
   "cell_type": "code",
   "execution_count": 203,
   "metadata": {},
   "outputs": [
    {
     "data": {
      "image/png": "[encoded data removed]",
      "text/plain": [
       "<Figure size 432x288 with 1 Axes>"
      ]
     },
     "metadata": {
      "needs_background": "light"
     },
     "output_type": "display_data"
    }
   ],
   "source": [
    "df = Data\n",
    "polarity_cases_by_country = {}\n",
    "\n",
    "for country in top_countries_names:\n",
    "    pos = df.groupby(by=[\"country\"]).get_group(country)['Polarity'].apply(lambda x: (float(x) > 0 )).reset_index(name='count').sum()\n",
    "    neg = df.groupby(by=[\"country\"]).get_group(country)['Polarity'].apply(lambda x: (float(x) < 0 )).reset_index(name='count').sum()\n",
    "    neutral = df.groupby(by=[\"country\"]).get_group(country)['Polarity'].apply(lambda x: (float(x) == 0 )).reset_index(name='count').sum()\n",
    "    \n",
    "    polarity_cases_by_country[country] = [pos['count'], neg['count'],neutral['count']]  \n",
    "    \n",
    "    \n",
    "\n",
    "barWidth = 0.25\n",
    " \n",
    "bars1 = [i[0] for i in polarity_cases_by_country.values()]\n",
    "bars2 = [i[1] for i in polarity_cases_by_country.values()]\n",
    "bars3 = [i[2] for i in polarity_cases_by_country.values()]\n",
    " \n",
    "# Set position of bar on X axis\n",
    "r1 = np.arange(len(bars1))\n",
    "r2 = [x + barWidth for x in r1]\n",
    "r3 = [x + barWidth for x in r2]\n",
    " \n",
    "# Make the plot\n",
    "plt.bar(r1, bars1, color='darkblue', width=barWidth, edgecolor='white', label='Positive tweets')\n",
    "plt.bar(r2, bars2, color='cyan', width=barWidth, edgecolor='white', label='Negative tweets')\n",
    "plt.bar(r3, bars3, color='dodgerblue', width=barWidth, edgecolor='white', label='Neutral tweets')\n",
    " \n",
    "# Add xticks on the middle of the group bars\n",
    "plt.xlabel('Country', fontweight='bold')\n",
    "plt.xticks([r + barWidth for r in range(len(bars1))], polarity_cases_by_country.keys())\n",
    "\n",
    "# Create legend & Show graphic\n",
    "plt.legend()\n",
    "plt.show()"
   ]
  },
  {
   "cell_type": "code",
   "execution_count": null,
   "metadata": {},
   "outputs": [],
   "source": []
  }
 ],
 "metadata": {
  "kernelspec": {
   "display_name": "Python 3",
   "language": "python",
   "name": "python3"
  },
  "language_info": {
   "codemirror_mode": {
    "name": "ipython",
    "version": 3
   },
   "file_extension": ".py",
   "mimetype": "text/x-python",
   "name": "python",
   "nbconvert_exporter": "python",
   "pygments_lexer": "ipython3",
   "version": "3.8.5"
  }
 },
 "nbformat": 4,
 "nbformat_minor": 4
}
